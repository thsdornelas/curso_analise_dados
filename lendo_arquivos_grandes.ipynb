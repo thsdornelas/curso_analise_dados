{
  "nbformat": 4,
  "nbformat_minor": 0,
  "metadata": {
    "colab": {
      "name": "lendo_arquivos_grandes.ipynb",
      "provenance": [],
      "collapsed_sections": [],
      "mount_file_id": "1z4DW5cveOQ-c8YDrb_zAsxbequ4pQrH3",
      "authorship_tag": "ABX9TyMg8aHQ3WavpFS2yp5CX5q5",
      "include_colab_link": true
    },
    "kernelspec": {
      "name": "python3",
      "display_name": "Python 3"
    }
  },
  "cells": [
    {
      "cell_type": "markdown",
      "metadata": {
        "id": "view-in-github",
        "colab_type": "text"
      },
      "source": [
        "<a href=\"https://colab.research.google.com/github/thsdornelas/curso_analise_dados/blob/main/lendo_arquivos_grandes.ipynb\" target=\"_parent\"><img src=\"https://colab.research.google.com/assets/colab-badge.svg\" alt=\"Open In Colab\"/></a>"
      ]
    },
    {
      "cell_type": "code",
      "metadata": {
        "id": "O2KtPi_at_na"
      },
      "source": [
        "import pandas as pd\r\n",
        "import matplotlib.pyplot as plt\r\n"
      ],
      "execution_count": 13,
      "outputs": []
    },
    {
      "cell_type": "code",
      "metadata": {
        "id": "DjCKHTfWuGP2"
      },
      "source": [
        "#Colunas para importar\r\n",
        "colunas = ['NU_INSCRICAO', 'NU_ANO', 'CO_MUNICIPIO_RESIDENCIA', 'NO_MUNICIPIO_RESIDENCIA',\r\n",
        "          'CO_UF_RESIDENCIA', 'SG_UF_RESIDENCIA', 'NU_IDADE', 'TP_SEXO', 'TP_ESTADO_CIVIL', 'TP_COR_RACA', \r\n",
        "           'TP_NACIONALIDADE', 'TP_ESCOLA']"
      ],
      "execution_count": 14,
      "outputs": []
    },
    {
      "cell_type": "code",
      "metadata": {
        "id": "3mz53xOyuVkG"
      },
      "source": [
        "#Lendo arquivo\r\n",
        "microdados_enem2019 = pd.read_csv('/content/drive/MyDrive/curso_analise_dados/brutos/MICRODADOS_ENEM_2019.csv',\r\n",
        "                                  sep=';', encoding='ISO-8859-1', usecols=colunas)"
      ],
      "execution_count": 15,
      "outputs": []
    },
    {
      "cell_type": "code",
      "metadata": {
        "colab": {
          "base_uri": "https://localhost:8080/"
        },
        "id": "SkopaaLPu-aw",
        "outputId": "a8fdf3b3-37b8-4d99-b2b7-fd68ed842ddd"
      },
      "source": [
        "microdados_enem2019.info(memory_usage='deep')"
      ],
      "execution_count": 16,
      "outputs": [
        {
          "output_type": "stream",
          "text": [
            "<class 'pandas.core.frame.DataFrame'>\n",
            "RangeIndex: 5095270 entries, 0 to 5095269\n",
            "Data columns (total 12 columns):\n",
            " #   Column                   Dtype \n",
            "---  ------                   ----- \n",
            " 0   NU_INSCRICAO             int64 \n",
            " 1   NU_ANO                   int64 \n",
            " 2   CO_MUNICIPIO_RESIDENCIA  int64 \n",
            " 3   NO_MUNICIPIO_RESIDENCIA  object\n",
            " 4   CO_UF_RESIDENCIA         int64 \n",
            " 5   SG_UF_RESIDENCIA         object\n",
            " 6   NU_IDADE                 int64 \n",
            " 7   TP_SEXO                  object\n",
            " 8   TP_ESTADO_CIVIL          int64 \n",
            " 9   TP_COR_RACA              int64 \n",
            " 10  TP_NACIONALIDADE         int64 \n",
            " 11  TP_ESCOLA                int64 \n",
            "dtypes: int64(9), object(3)\n",
            "memory usage: 1.3 GB\n"
          ],
          "name": "stdout"
        }
      ]
    },
    {
      "cell_type": "code",
      "metadata": {
        "colab": {
          "base_uri": "https://localhost:8080/",
          "height": 222
        },
        "id": "qBOv_kbmvGA-",
        "outputId": "267ce335-2db0-4351-cf0a-3f1a0e35da45"
      },
      "source": [
        "microdados_enem2019.head()"
      ],
      "execution_count": 17,
      "outputs": [
        {
          "output_type": "execute_result",
          "data": {
            "text/html": [
              "<div>\n",
              "<style scoped>\n",
              "    .dataframe tbody tr th:only-of-type {\n",
              "        vertical-align: middle;\n",
              "    }\n",
              "\n",
              "    .dataframe tbody tr th {\n",
              "        vertical-align: top;\n",
              "    }\n",
              "\n",
              "    .dataframe thead th {\n",
              "        text-align: right;\n",
              "    }\n",
              "</style>\n",
              "<table border=\"1\" class=\"dataframe\">\n",
              "  <thead>\n",
              "    <tr style=\"text-align: right;\">\n",
              "      <th></th>\n",
              "      <th>NU_INSCRICAO</th>\n",
              "      <th>NU_ANO</th>\n",
              "      <th>CO_MUNICIPIO_RESIDENCIA</th>\n",
              "      <th>NO_MUNICIPIO_RESIDENCIA</th>\n",
              "      <th>CO_UF_RESIDENCIA</th>\n",
              "      <th>SG_UF_RESIDENCIA</th>\n",
              "      <th>NU_IDADE</th>\n",
              "      <th>TP_SEXO</th>\n",
              "      <th>TP_ESTADO_CIVIL</th>\n",
              "      <th>TP_COR_RACA</th>\n",
              "      <th>TP_NACIONALIDADE</th>\n",
              "      <th>TP_ESCOLA</th>\n",
              "    </tr>\n",
              "  </thead>\n",
              "  <tbody>\n",
              "    <tr>\n",
              "      <th>0</th>\n",
              "      <td>190001004627</td>\n",
              "      <td>2019</td>\n",
              "      <td>1506807</td>\n",
              "      <td>Santarém</td>\n",
              "      <td>15</td>\n",
              "      <td>PA</td>\n",
              "      <td>21</td>\n",
              "      <td>M</td>\n",
              "      <td>1</td>\n",
              "      <td>3</td>\n",
              "      <td>4</td>\n",
              "      <td>1</td>\n",
              "    </tr>\n",
              "    <tr>\n",
              "      <th>1</th>\n",
              "      <td>190001004628</td>\n",
              "      <td>2019</td>\n",
              "      <td>1504059</td>\n",
              "      <td>Mãe do Rio</td>\n",
              "      <td>15</td>\n",
              "      <td>PA</td>\n",
              "      <td>16</td>\n",
              "      <td>F</td>\n",
              "      <td>1</td>\n",
              "      <td>3</td>\n",
              "      <td>1</td>\n",
              "      <td>1</td>\n",
              "    </tr>\n",
              "    <tr>\n",
              "      <th>2</th>\n",
              "      <td>190001004629</td>\n",
              "      <td>2019</td>\n",
              "      <td>1505502</td>\n",
              "      <td>Paragominas</td>\n",
              "      <td>15</td>\n",
              "      <td>PA</td>\n",
              "      <td>18</td>\n",
              "      <td>F</td>\n",
              "      <td>1</td>\n",
              "      <td>1</td>\n",
              "      <td>1</td>\n",
              "      <td>3</td>\n",
              "    </tr>\n",
              "    <tr>\n",
              "      <th>3</th>\n",
              "      <td>190001004630</td>\n",
              "      <td>2019</td>\n",
              "      <td>1507706</td>\n",
              "      <td>São Sebastião da Boa Vista</td>\n",
              "      <td>15</td>\n",
              "      <td>PA</td>\n",
              "      <td>23</td>\n",
              "      <td>M</td>\n",
              "      <td>0</td>\n",
              "      <td>3</td>\n",
              "      <td>1</td>\n",
              "      <td>2</td>\n",
              "    </tr>\n",
              "    <tr>\n",
              "      <th>4</th>\n",
              "      <td>190001004631</td>\n",
              "      <td>2019</td>\n",
              "      <td>1503903</td>\n",
              "      <td>Juruti</td>\n",
              "      <td>15</td>\n",
              "      <td>PA</td>\n",
              "      <td>23</td>\n",
              "      <td>M</td>\n",
              "      <td>1</td>\n",
              "      <td>3</td>\n",
              "      <td>1</td>\n",
              "      <td>1</td>\n",
              "    </tr>\n",
              "  </tbody>\n",
              "</table>\n",
              "</div>"
            ],
            "text/plain": [
              "   NU_INSCRICAO  NU_ANO  ...  TP_NACIONALIDADE TP_ESCOLA\n",
              "0  190001004627    2019  ...                 4         1\n",
              "1  190001004628    2019  ...                 1         1\n",
              "2  190001004629    2019  ...                 1         3\n",
              "3  190001004630    2019  ...                 1         2\n",
              "4  190001004631    2019  ...                 1         1\n",
              "\n",
              "[5 rows x 12 columns]"
            ]
          },
          "metadata": {
            "tags": []
          },
          "execution_count": 17
        }
      ]
    },
    {
      "cell_type": "markdown",
      "metadata": {
        "id": "Yv1BboPqv1pC"
      },
      "source": [
        "#Análise exploratória dos microdados do ENEM"
      ]
    },
    {
      "cell_type": "code",
      "metadata": {
        "colab": {
          "base_uri": "https://localhost:8080/"
        },
        "id": "LFAy82FGwBWF",
        "outputId": "783d6cc6-3136-4917-aa5f-0a130895b148"
      },
      "source": [
        "#Visualizando o nome de todas as colunas\r\n",
        "microdados_enem2019.columns.values"
      ],
      "execution_count": 18,
      "outputs": [
        {
          "output_type": "execute_result",
          "data": {
            "text/plain": [
              "array(['NU_INSCRICAO', 'NU_ANO', 'CO_MUNICIPIO_RESIDENCIA',\n",
              "       'NO_MUNICIPIO_RESIDENCIA', 'CO_UF_RESIDENCIA', 'SG_UF_RESIDENCIA',\n",
              "       'NU_IDADE', 'TP_SEXO', 'TP_ESTADO_CIVIL', 'TP_COR_RACA',\n",
              "       'TP_NACIONALIDADE', 'TP_ESCOLA'], dtype=object)"
            ]
          },
          "metadata": {
            "tags": []
          },
          "execution_count": 18
        }
      ]
    },
    {
      "cell_type": "code",
      "metadata": {
        "id": "3ZMetr83xSM1"
      },
      "source": [
        "#Extraindo a coluna nome do município\r\n",
        "coluna_mun_residencia = microdados_enem2019['NO_MUNICIPIO_RESIDENCIA']"
      ],
      "execution_count": 20,
      "outputs": []
    },
    {
      "cell_type": "code",
      "metadata": {
        "colab": {
          "base_uri": "https://localhost:8080/"
        },
        "id": "MTOWUoh2zO0t",
        "outputId": "02b18603-0007-4423-b773-647a5d29ffaf"
      },
      "source": [
        "coluna_mun_residencia"
      ],
      "execution_count": 21,
      "outputs": [
        {
          "output_type": "execute_result",
          "data": {
            "text/plain": [
              "0                            Santarém\n",
              "1                          Mãe do Rio\n",
              "2                         Paragominas\n",
              "3          São Sebastião da Boa Vista\n",
              "4                              Juruti\n",
              "                      ...            \n",
              "5095265                   Santo Amaro\n",
              "5095266                      Salvador\n",
              "5095267                      Tremedal\n",
              "5095268                      Salvador\n",
              "5095269                       Itabuna\n",
              "Name: NO_MUNICIPIO_RESIDENCIA, Length: 5095270, dtype: object"
            ]
          },
          "metadata": {
            "tags": []
          },
          "execution_count": 21
        }
      ]
    },
    {
      "cell_type": "code",
      "metadata": {
        "colab": {
          "base_uri": "https://localhost:8080/"
        },
        "id": "eiRHieqazc4m",
        "outputId": "c9c2710d-8d4a-4016-9179-192472f5c285"
      },
      "source": [
        "#Número de candidatos por município\r\n",
        "coluna_mun_residencia.value_counts().sort_index()"
      ],
      "execution_count": 23,
      "outputs": [
        {
          "output_type": "execute_result",
          "data": {
            "text/plain": [
              "Abadia de Goiás         283\n",
              "Abadia dos Dourados     140\n",
              "Abadiânia               280\n",
              "Abaetetuba             6821\n",
              "Abaeté                  495\n",
              "                       ... \n",
              "Áurea                    68\n",
              "Ângulo                   44\n",
              "Érico Cardoso           127\n",
              "Óbidos                 1313\n",
              "Óleo                     46\n",
              "Name: NO_MUNICIPIO_RESIDENCIA, Length: 5299, dtype: int64"
            ]
          },
          "metadata": {
            "tags": []
          },
          "execution_count": 23
        }
      ]
    },
    {
      "cell_type": "code",
      "metadata": {
        "colab": {
          "base_uri": "https://localhost:8080/"
        },
        "id": "jdryIkLAz8iD",
        "outputId": "845ac5ea-bf00-49dc-d545-d05cef2d766a"
      },
      "source": [
        "col_nu_idade = microdados_enem2019['NU_IDADE']\r\n",
        "col_nu_idade"
      ],
      "execution_count": 24,
      "outputs": [
        {
          "output_type": "execute_result",
          "data": {
            "text/plain": [
              "0          21\n",
              "1          16\n",
              "2          18\n",
              "3          23\n",
              "4          23\n",
              "           ..\n",
              "5095265    28\n",
              "5095266    25\n",
              "5095267    18\n",
              "5095268    16\n",
              "5095269    25\n",
              "Name: NU_IDADE, Length: 5095270, dtype: int64"
            ]
          },
          "metadata": {
            "tags": []
          },
          "execution_count": 24
        }
      ]
    },
    {
      "cell_type": "code",
      "metadata": {
        "colab": {
          "base_uri": "https://localhost:8080/"
        },
        "id": "_gEX4dVA0Py8",
        "outputId": "acae3801-5c18-45ee-edd2-f0e856228e90"
      },
      "source": [
        "col_nu_idade.value_counts()"
      ],
      "execution_count": 50,
      "outputs": [
        {
          "output_type": "execute_result",
          "data": {
            "text/plain": [
              "18    864186\n",
              "17    847303\n",
              "19    577161\n",
              "20    409385\n",
              "16    316437\n",
              "       ...  \n",
              "91         2\n",
              "92         1\n",
              "87         1\n",
              "88         1\n",
              "94         1\n",
              "Name: NU_IDADE, Length: 91, dtype: int64"
            ]
          },
          "metadata": {
            "tags": []
          },
          "execution_count": 50
        }
      ]
    },
    {
      "cell_type": "code",
      "metadata": {
        "colab": {
          "base_uri": "https://localhost:8080/",
          "height": 293
        },
        "id": "veoeY70R11LB",
        "outputId": "49aea5ab-f281-4acc-df92-c530945f2ced"
      },
      "source": [
        "#Grafico de histograma\r\n",
        "col_nu_idade.hist(bins=30)"
      ],
      "execution_count": 45,
      "outputs": [
        {
          "output_type": "execute_result",
          "data": {
            "text/plain": [
              "<matplotlib.axes._subplots.AxesSubplot at 0x7ff5aba3aeb8>"
            ]
          },
          "metadata": {
            "tags": []
          },
          "execution_count": 45
        },
        {
          "output_type": "display_data",
          "data": {
            "image/png": "[encoded data removed]",
            "text/plain": [
              "<Figure size 432x288 with 1 Axes>"
            ]
          },
          "metadata": {
            "tags": [],
            "needs_background": "light"
          }
        }
      ]
    },
    {
      "cell_type": "code",
      "metadata": {
        "id": "7mLCw77n2JQx"
      },
      "source": [
        "coluna_sg_uf_residencia = microdados_enem2019['SG_UF_RESIDENCIA']"
      ],
      "execution_count": 46,
      "outputs": []
    },
    {
      "cell_type": "code",
      "metadata": {
        "colab": {
          "base_uri": "https://localhost:8080/"
        },
        "id": "JZuiPXVd2XHi",
        "outputId": "9679c2de-ca9f-47c1-865f-6e706c74fbc9"
      },
      "source": [
        "coluna_sg_uf_residencia.value_counts()"
      ],
      "execution_count": 49,
      "outputs": [
        {
          "output_type": "execute_result",
          "data": {
            "text/plain": [
              "SP    813772\n",
              "MG    538896\n",
              "BA    398095\n",
              "RJ    338710\n",
              "CE    295870\n",
              "PA    281518\n",
              "PE    271727\n",
              "MA    219673\n",
              "RS    218763\n",
              "PR    210080\n",
              "GO    170147\n",
              "PB    147780\n",
              "PI    121181\n",
              "RN    119179\n",
              "AM    118087\n",
              "SC    109515\n",
              "ES    102435\n",
              "DF     94352\n",
              "AL     91707\n",
              "MT     88349\n",
              "SE     75895\n",
              "MS     70157\n",
              "RO     58885\n",
              "TO     47181\n",
              "AP     42140\n",
              "AC     38229\n",
              "RR     12947\n",
              "Name: SG_UF_RESIDENCIA, dtype: int64"
            ]
          },
          "metadata": {
            "tags": []
          },
          "execution_count": 49
        }
      ]
    },
    {
      "cell_type": "code",
      "metadata": {
        "colab": {
          "base_uri": "https://localhost:8080/",
          "height": 283
        },
        "id": "EA44fKwc2wqX",
        "outputId": "76728bf4-5125-41be-84ff-bc159be5d034"
      },
      "source": [
        "coluna_sg_uf_residencia.hist(bins=27)"
      ],
      "execution_count": 53,
      "outputs": [
        {
          "output_type": "execute_result",
          "data": {
            "text/plain": [
              "<matplotlib.axes._subplots.AxesSubplot at 0x7ff5ab3f8cf8>"
            ]
          },
          "metadata": {
            "tags": []
          },
          "execution_count": 53
        },
        {
          "output_type": "display_data",
          "data": {
            "image/png": "[encoded data removed]",
            "text/plain": [
              "<Figure size 432x288 with 1 Axes>"
            ]
          },
          "metadata": {
            "tags": [],
            "needs_background": "light"
          }
        }
      ]
    }
  ]
}