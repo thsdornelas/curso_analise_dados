{
  "nbformat": 4,
  "nbformat_minor": 0,
  "metadata": {
    "colab": {
      "name": "lendo_arquivos_grandes.ipynb",
      "provenance": [],
      "collapsed_sections": [],
      "mount_file_id": "1z4DW5cveOQ-c8YDrb_zAsxbequ4pQrH3",
      "authorship_tag": "ABX9TyPQcnPSSdmxAd+T70XeY8Yg",
      "include_colab_link": true
    },
    "kernelspec": {
      "name": "python3",
      "display_name": "Python 3"
    }
  },
  "cells": [
    {
      "cell_type": "markdown",
      "metadata": {
        "id": "view-in-github",
        "colab_type": "text"
      },
      "source": [
        "<a href=\"https://colab.research.google.com/github/thsdornelas/curso_analise_dados/blob/main/lendo_arquivos_grandes.ipynb\" target=\"_parent\"><img src=\"https://colab.research.google.com/assets/colab-badge.svg\" alt=\"Open In Colab\"/></a>"
      ]
    },
    {
      "cell_type": "code",
      "metadata": {
        "id": "O2KtPi_at_na"
      },
      "source": [
        "import pandas as pd"
      ],
      "execution_count": 1,
      "outputs": []
    },
    {
      "cell_type": "code",
      "metadata": {
        "id": "DjCKHTfWuGP2"
      },
      "source": [
        "#Colunas para importar\r\n",
        "colunas = ['NU_INSCRICAO', 'NU_ANO', 'CO_MUNICIPIO_RESIDENCIA', 'NO_MUNICIPIO_RESIDENCIA',\r\n",
        "          'CO_UF_RESIDENCIA', 'SG_UF_RESIDENCIA', 'NU_IDADE']"
      ],
      "execution_count": 2,
      "outputs": []
    },
    {
      "cell_type": "code",
      "metadata": {
        "id": "3mz53xOyuVkG"
      },
      "source": [
        "#Lendo arquivo\r\n",
        "microdados_enem2019 = pd.read_csv('/content/drive/MyDrive/curso_analise_dados/brutos/MICRODADOS_ENEM_2019.csv',\r\n",
        "                                  sep=';', encoding='ISO-8859-1', usecols=colunas)"
      ],
      "execution_count": 3,
      "outputs": []
    },
    {
      "cell_type": "code",
      "metadata": {
        "colab": {
          "base_uri": "https://localhost:8080/"
        },
        "id": "SkopaaLPu-aw",
        "outputId": "a6623c8d-1b0e-4f38-f557-d61268dfafac"
      },
      "source": [
        "microdados_enem2019.info(memory_usage='deep')"
      ],
      "execution_count": 4,
      "outputs": [
        {
          "output_type": "stream",
          "text": [
            "<class 'pandas.core.frame.DataFrame'>\n",
            "RangeIndex: 5095270 entries, 0 to 5095269\n",
            "Data columns (total 7 columns):\n",
            " #   Column                   Dtype \n",
            "---  ------                   ----- \n",
            " 0   NU_INSCRICAO             int64 \n",
            " 1   NU_ANO                   int64 \n",
            " 2   CO_MUNICIPIO_RESIDENCIA  int64 \n",
            " 3   NO_MUNICIPIO_RESIDENCIA  object\n",
            " 4   CO_UF_RESIDENCIA         int64 \n",
            " 5   SG_UF_RESIDENCIA         object\n",
            " 6   NU_IDADE                 int64 \n",
            "dtypes: int64(5), object(2)\n",
            "memory usage: 855.9 MB\n"
          ],
          "name": "stdout"
        }
      ]
    },
    {
      "cell_type": "code",
      "metadata": {
        "colab": {
          "base_uri": "https://localhost:8080/",
          "height": 202
        },
        "id": "qBOv_kbmvGA-",
        "outputId": "f57789c7-277b-4a09-b494-aa38e64b2fde"
      },
      "source": [
        "microdados_enem2019.head()"
      ],
      "execution_count": 5,
      "outputs": [
        {
          "output_type": "execute_result",
          "data": {
            "text/html": [
              "<div>\n",
              "<style scoped>\n",
              "    .dataframe tbody tr th:only-of-type {\n",
              "        vertical-align: middle;\n",
              "    }\n",
              "\n",
              "    .dataframe tbody tr th {\n",
              "        vertical-align: top;\n",
              "    }\n",
              "\n",
              "    .dataframe thead th {\n",
              "        text-align: right;\n",
              "    }\n",
              "</style>\n",
              "<table border=\"1\" class=\"dataframe\">\n",
              "  <thead>\n",
              "    <tr style=\"text-align: right;\">\n",
              "      <th></th>\n",
              "      <th>NU_INSCRICAO</th>\n",
              "      <th>NU_ANO</th>\n",
              "      <th>CO_MUNICIPIO_RESIDENCIA</th>\n",
              "      <th>NO_MUNICIPIO_RESIDENCIA</th>\n",
              "      <th>CO_UF_RESIDENCIA</th>\n",
              "      <th>SG_UF_RESIDENCIA</th>\n",
              "      <th>NU_IDADE</th>\n",
              "    </tr>\n",
              "  </thead>\n",
              "  <tbody>\n",
              "    <tr>\n",
              "      <th>0</th>\n",
              "      <td>190001004627</td>\n",
              "      <td>2019</td>\n",
              "      <td>1506807</td>\n",
              "      <td>Santarém</td>\n",
              "      <td>15</td>\n",
              "      <td>PA</td>\n",
              "      <td>21</td>\n",
              "    </tr>\n",
              "    <tr>\n",
              "      <th>1</th>\n",
              "      <td>190001004628</td>\n",
              "      <td>2019</td>\n",
              "      <td>1504059</td>\n",
              "      <td>Mãe do Rio</td>\n",
              "      <td>15</td>\n",
              "      <td>PA</td>\n",
              "      <td>16</td>\n",
              "    </tr>\n",
              "    <tr>\n",
              "      <th>2</th>\n",
              "      <td>190001004629</td>\n",
              "      <td>2019</td>\n",
              "      <td>1505502</td>\n",
              "      <td>Paragominas</td>\n",
              "      <td>15</td>\n",
              "      <td>PA</td>\n",
              "      <td>18</td>\n",
              "    </tr>\n",
              "    <tr>\n",
              "      <th>3</th>\n",
              "      <td>190001004630</td>\n",
              "      <td>2019</td>\n",
              "      <td>1507706</td>\n",
              "      <td>São Sebastião da Boa Vista</td>\n",
              "      <td>15</td>\n",
              "      <td>PA</td>\n",
              "      <td>23</td>\n",
              "    </tr>\n",
              "    <tr>\n",
              "      <th>4</th>\n",
              "      <td>190001004631</td>\n",
              "      <td>2019</td>\n",
              "      <td>1503903</td>\n",
              "      <td>Juruti</td>\n",
              "      <td>15</td>\n",
              "      <td>PA</td>\n",
              "      <td>23</td>\n",
              "    </tr>\n",
              "  </tbody>\n",
              "</table>\n",
              "</div>"
            ],
            "text/plain": [
              "   NU_INSCRICAO  NU_ANO  ...  SG_UF_RESIDENCIA NU_IDADE\n",
              "0  190001004627    2019  ...                PA       21\n",
              "1  190001004628    2019  ...                PA       16\n",
              "2  190001004629    2019  ...                PA       18\n",
              "3  190001004630    2019  ...                PA       23\n",
              "4  190001004631    2019  ...                PA       23\n",
              "\n",
              "[5 rows x 7 columns]"
            ]
          },
          "metadata": {
            "tags": []
          },
          "execution_count": 5
        }
      ]
    }
  ]
}